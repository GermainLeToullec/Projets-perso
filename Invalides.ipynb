{
  "nbformat": 4,
  "nbformat_minor": 0,
  "metadata": {
    "colab": {
      "provenance": [],
      "authorship_tag": "ABX9TyP27e28LR3KpKdlmnTZwwVM"
    },
    "kernelspec": {
      "name": "python3",
      "display_name": "Python 3"
    },
    "language_info": {
      "name": "python"
    }
  },
  "cells": [
    {
      "cell_type": "code",
      "source": [
        "# Texte codé\n",
        "message = 'VAEXDNIS EN1IITCE ND4NTSEV EDJVELUO ZEUASENU SLILAMES UALINOSA RDLDOTUT LGEESSRT ESTSAEPE SEAEGRRN TLUTEVID'"
      ],
      "metadata": {
        "id": "kaILs0lIU25O"
      },
      "execution_count": 3,
      "outputs": []
    },
    {
      "cell_type": "code",
      "execution_count": 4,
      "metadata": {
        "colab": {
          "base_uri": "https://localhost:8080/"
        },
        "id": "JKoVvKqeUvyL",
        "outputId": "2638837d-276a-4a9f-8b31-406449b9648c"
      },
      "outputs": [
        {
          "output_type": "stream",
          "name": "stdout",
          "text": [
            "Message décrypté :\n",
            "VENEZSURLESTANDDELADGSELE14JUILLETAUXINVALIDESETDITESANOSAGENTSLEMOTSERVICEUNESURPRISEVOUSATTEND\n"
          ]
        }
      ],
      "source": [
        "# Séparer les blocs\n",
        "blocs = message.split()\n",
        "\n",
        "# Trouver la longueur maximale d’un bloc\n",
        "max_len = max(len(b) for b in blocs)\n",
        "\n",
        "# Initialiser la phrase décryptée\n",
        "dechiffre = ''\n",
        "\n",
        "# Parcourir lettre par lettre (par colonnes)\n",
        "for i in range(max_len):\n",
        "    for bloc in blocs:\n",
        "        if i < len(bloc):\n",
        "            dechiffre += bloc[i]\n",
        "\n",
        "print(\"Message décrypté :\")\n",
        "print(dechiffre)"
      ]
    },
    {
      "cell_type": "code",
      "source": [
        "avec_espace= 'VENEZ SUR LE STAND DE LA DGSE LE 14 JUILLET AUX INVALIDES ET DITES A NOS AGENTS LE MOT SERVICE UNE SURPRISE VOUS ATTEND'\n",
        "print(avec_espace)"
      ],
      "metadata": {
        "colab": {
          "base_uri": "https://localhost:8080/"
        },
        "id": "T-kjwWhnbaEk",
        "outputId": "8064fba6-7421-4e69-a222-c0259b753359"
      },
      "execution_count": 5,
      "outputs": [
        {
          "output_type": "stream",
          "name": "stdout",
          "text": [
            "VENEZ SUR LE STAND DE LA DGSE LE 14 JUILLET AUX INVALIDES ET DITES A NOS AGENTS LE MOT SERVICE UNE SURPRISE VOUS ATTEND\n"
          ]
        }
      ]
    }
  ]
}